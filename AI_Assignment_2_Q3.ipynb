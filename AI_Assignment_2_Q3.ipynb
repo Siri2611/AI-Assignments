{
  "nbformat": 4,
  "nbformat_minor": 0,
  "metadata": {
    "colab": {
      "provenance": [],
      "authorship_tag": "ABX9TyNC9T3afkXsA0dRXxK2GJha",
      "include_colab_link": true
    },
    "kernelspec": {
      "name": "python3",
      "display_name": "Python 3"
    },
    "language_info": {
      "name": "python"
    }
  },
  "cells": [
    {
      "cell_type": "markdown",
      "metadata": {
        "id": "view-in-github",
        "colab_type": "text"
      },
      "source": [
        "<a href=\"https://colab.research.google.com/github/Siri2611/AI-Assignments/blob/main/AI_Assignment_2_Q3.ipynb\" target=\"_parent\"><img src=\"https://colab.research.google.com/assets/colab-badge.svg\" alt=\"Open In Colab\"/></a>"
      ]
    },
    {
      "cell_type": "code",
      "source": [
        "import heapq"
      ],
      "metadata": {
        "id": "zJyJm9gKDN0_"
      },
      "execution_count": null,
      "outputs": []
    },
    {
      "cell_type": "code",
      "execution_count": null,
      "metadata": {
        "id": "H6cNHIyYCjLd"
      },
      "outputs": [],
      "source": [
        "graph = {\n",
        "    'A': [('B', 4), ('C', 2)],\n",
        "    'B': [('C', 3), ('D', 6)],\n",
        "    'C': [('D', 1)],\n",
        "    'D': [('E', 5)],\n",
        "    'E': []\n",
        "}"
      ]
    },
    {
      "cell_type": "code",
      "source": [
        "def uniform_cost_search(graph, start, goal):\n",
        "    priority_queue = [(0, start, [])]\n",
        "    visited = set()\n",
        "\n",
        "    while priority_queue:\n",
        "        cost, node, path = heapq.heappop(priority_queue)\n",
        "\n",
        "        if node in visited:\n",
        "            continue\n",
        "        visited.add(node)\n",
        "        path = path + [node]\n",
        "\n",
        "        if node == goal:\n",
        "            return cost, path\n",
        "\n",
        "        for neighbor, edge_cost in graph.get(node, []):\n",
        "            if neighbor not in visited:\n",
        "                heapq.heappush(priority_queue, (cost + edge_cost, neighbor, path))\n",
        "\n",
        "    return float(\"inf\"), []\n"
      ],
      "metadata": {
        "id": "4yh1woQJCv3o"
      },
      "execution_count": null,
      "outputs": []
    },
    {
      "cell_type": "code",
      "source": [
        "cost, path = uniform_cost_search(graph, 'A', 'E')"
      ],
      "metadata": {
        "id": "zq4n4c6eDB1e"
      },
      "execution_count": null,
      "outputs": []
    },
    {
      "cell_type": "code",
      "source": [
        "print(\"Shortest Path:\", path)\n",
        "print(\"Total Fuel Cost:\", cost)"
      ],
      "metadata": {
        "colab": {
          "base_uri": "https://localhost:8080/"
        },
        "id": "VPjTQPwaDE9S",
        "outputId": "83f1008e-5f59-42f5-fe35-34be3685b186"
      },
      "execution_count": null,
      "outputs": [
        {
          "output_type": "stream",
          "name": "stdout",
          "text": [
            "Shortest Path: ['A', 'C', 'D', 'E']\n",
            "Total Fuel Cost: 8\n"
          ]
        }
      ]
    }
  ]
}