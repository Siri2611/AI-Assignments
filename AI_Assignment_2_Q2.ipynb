{
  "nbformat": 4,
  "nbformat_minor": 0,
  "metadata": {
    "colab": {
      "provenance": [],
      "authorship_tag": "ABX9TyPxCkQdtzjVNvyKoPrxSYhf",
      "include_colab_link": true
    },
    "kernelspec": {
      "name": "python3",
      "display_name": "Python 3"
    },
    "language_info": {
      "name": "python"
    }
  },
  "cells": [
    {
      "cell_type": "markdown",
      "metadata": {
        "id": "view-in-github",
        "colab_type": "text"
      },
      "source": [
        "<a href=\"https://colab.research.google.com/github/Siri2611/AI-Assignments/blob/main/AI_Assignment_2_Q2.ipynb\" target=\"_parent\"><img src=\"https://colab.research.google.com/assets/colab-badge.svg\" alt=\"Open In Colab\"/></a>"
      ]
    },
    {
      "cell_type": "code",
      "execution_count": null,
      "metadata": {
        "id": "VUoaVB5Y_WJj"
      },
      "outputs": [],
      "source": [
        "import heapq"
      ]
    },
    {
      "cell_type": "code",
      "source": [
        "graph = {\n",
        "    'A': [('B', 1), ('C', 4)],\n",
        "    'B': [('C', 2), ('D', 5)],\n",
        "    'C': [('D', 1)],\n",
        "    'D': [('E', 3)],\n",
        "    'E': []\n",
        "}"
      ],
      "metadata": {
        "id": "_IS3AfpDALtO"
      },
      "execution_count": null,
      "outputs": []
    },
    {
      "cell_type": "code",
      "source": [
        "def uniform_cost_search(graph, start, goal):\n",
        "    priority_queue = [(0, start, [])]\n",
        "    visited = set()\n",
        "\n",
        "    while priority_queue:\n",
        "        cost, node, path = heapq.heappop(priority_queue)\n",
        "\n",
        "        if node in visited:\n",
        "            continue\n",
        "        visited.add(node)\n",
        "        path = path + [node]\n",
        "\n",
        "        if node == goal:\n",
        "            return cost, path\n",
        "\n",
        "        for neighbor, edge_cost in graph.get(node, []):\n",
        "            if neighbor not in visited:\n",
        "                heapq.heappush(priority_queue, (cost + edge_cost, neighbor, path))\n",
        "\n",
        "    return float(\"inf\"), []"
      ],
      "metadata": {
        "id": "xaIOEAI2AREP"
      },
      "execution_count": null,
      "outputs": []
    },
    {
      "cell_type": "code",
      "source": [
        "cost, path = uniform_cost_search(graph, 'A', 'E')"
      ],
      "metadata": {
        "id": "vPDVzEJWBxpX"
      },
      "execution_count": null,
      "outputs": []
    },
    {
      "cell_type": "code",
      "source": [
        "\n",
        "print(\"Shortest Path:\", path)\n",
        "print(\"Total Cost:\", cost)"
      ],
      "metadata": {
        "colab": {
          "base_uri": "https://localhost:8080/"
        },
        "id": "h9ndyjhcAhCS",
        "outputId": "302ad650-4a0b-47d9-a121-05a4ef6d3b43"
      },
      "execution_count": null,
      "outputs": [
        {
          "output_type": "stream",
          "name": "stdout",
          "text": [
            "Shortest Path: ['A', 'B', 'C', 'D', 'E']\n",
            "Total Cost: 7\n"
          ]
        }
      ]
    }
  ]
}