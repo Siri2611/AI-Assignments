{
  "nbformat": 4,
  "nbformat_minor": 0,
  "metadata": {
    "colab": {
      "provenance": [],
      "authorship_tag": "ABX9TyMt90OWp2ZLX2MvXy47yq3d",
      "include_colab_link": true
    },
    "kernelspec": {
      "name": "python3",
      "display_name": "Python 3"
    },
    "language_info": {
      "name": "python"
    }
  },
  "cells": [
    {
      "cell_type": "markdown",
      "metadata": {
        "id": "view-in-github",
        "colab_type": "text"
      },
      "source": [
        "<a href=\"https://colab.research.google.com/github/Siri2611/AI-Assignments/blob/main/AI_assignment_2_Q1.ipynb\" target=\"_parent\"><img src=\"https://colab.research.google.com/assets/colab-badge.svg\" alt=\"Open In Colab\"/></a>"
      ]
    },
    {
      "cell_type": "code",
      "execution_count": null,
      "metadata": {
        "id": "9I9E7Pqvw6tJ"
      },
      "outputs": [],
      "source": [
        "from collections import deque"
      ]
    },
    {
      "cell_type": "code",
      "source": [
        "\n",
        "graph = {\n",
        "    'A': ['B'],\n",
        "    'B': ['C', 'H'],\n",
        "    'C': ['D'],\n",
        "    'D': ['E', 'G'],\n",
        "    'E': ['F'],\n",
        "    'F': [],\n",
        "    'G': [],\n",
        "    'H': ['I', 'J', 'M'],\n",
        "    'I': [],\n",
        "    'J': ['K'],\n",
        "    'K': ['L'],\n",
        "    'L': [],\n",
        "    'M': []\n",
        "}"
      ],
      "metadata": {
        "id": "XMz2okjxx_6O"
      },
      "execution_count": null,
      "outputs": []
    },
    {
      "cell_type": "code",
      "source": [
        "def bfs(graph, start, goal):\n",
        "    queue = deque([[start]])\n",
        "    visited = set()\n",
        "\n",
        "    while queue:\n",
        "        path = queue.popleft()\n",
        "        node = path[-1]\n",
        "\n",
        "        if node not in visited:\n",
        "            visited.add(node)\n",
        "            if node == goal:\n",
        "                return path\n",
        "\n",
        "            for neighbor in graph.get(node, []):\n",
        "                queue.append(path + [neighbor])"
      ],
      "metadata": {
        "id": "vo581mP0yLWX"
      },
      "execution_count": null,
      "outputs": []
    },
    {
      "cell_type": "code",
      "source": [
        "def dfs(graph, start, goal):\n",
        "    stack = [[start]]\n",
        "    visited = set()\n",
        "\n",
        "    while stack:\n",
        "        path = stack.pop()\n",
        "        node = path[-1]\n",
        "\n",
        "        if node not in visited:\n",
        "            visited.add(node)\n",
        "            if node == goal:\n",
        "                return path  # Return path to goal\n",
        "\n",
        "            for neighbor in reversed(graph.get(node, [])):\n",
        "                stack.append(path + [neighbor])"
      ],
      "metadata": {
        "id": "vDc-M1E7y0TF"
      },
      "execution_count": null,
      "outputs": []
    },
    {
      "cell_type": "code",
      "source": [
        "bfs_path = bfs(graph, 'A', 'L')\n",
        "dfs_path = dfs(graph, 'A', 'L')\n"
      ],
      "metadata": {
        "id": "uMPVjM5ry73u"
      },
      "execution_count": null,
      "outputs": []
    },
    {
      "cell_type": "code",
      "source": [
        "print(\"BFS Path:\", bfs_path)\n",
        "print(\"DFS Path:\", dfs_path)"
      ],
      "metadata": {
        "colab": {
          "base_uri": "https://localhost:8080/"
        },
        "id": "4SQ5o7kny9NF",
        "outputId": "5a7079f1-2598-4bc6-c3fc-d6b2a285dcce"
      },
      "execution_count": null,
      "outputs": [
        {
          "output_type": "stream",
          "name": "stdout",
          "text": [
            "BFS Path: ['A', 'B', 'H', 'J', 'K', 'L']\n",
            "DFS Path: ['A', 'B', 'H', 'J', 'K', 'L']\n"
          ]
        }
      ]
    },
    {
      "cell_type": "code",
      "source": [],
      "metadata": {
        "id": "xve-SfoVHSUI"
      },
      "execution_count": null,
      "outputs": []
    }
  ]
}